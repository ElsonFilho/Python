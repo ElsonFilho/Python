{
  "nbformat": 4,
  "nbformat_minor": 0,
  "metadata": {
    "colab": {
      "provenance": [],
      "authorship_tag": "ABX9TyOngYDLwJQ5Bykwn+oWXWcw"
    },
    "kernelspec": {
      "name": "python3",
      "display_name": "Python 3"
    },
    "language_info": {
      "name": "python"
    }
  },
  "cells": [
    {
      "cell_type": "code",
      "execution_count": null,
      "metadata": {
        "colab": {
          "base_uri": "https://localhost:8080/"
        },
        "id": "Ck_ZJGLoEmDA",
        "outputId": "af2fec3c-9155-4d77-bc0d-10422f1971f1"
      },
      "outputs": [
        {
          "output_type": "stream",
          "name": "stdout",
          "text": [
            "Removed 'metadata.widgets' from notebook.\n",
            "Notebook saved to /content/SimpleChatBot.ipynb\n"
          ]
        }
      ],
      "source": [
        "import nbformat\n",
        "\n",
        "# Load the notebook\n",
        "notebook_path = \"/content/SimpleChatBot.ipynb\"  # Replace with your notebook filename\n",
        "with open(notebook_path, 'r', encoding='utf-8') as f:\n",
        "    nb = nbformat.read(f, as_version=4)\n",
        "\n",
        "# Remove problematic metadata\n",
        "if 'widgets' in nb.metadata:\n",
        "    del nb.metadata['widgets']\n",
        "    print(\"Removed 'metadata.widgets' from notebook.\")\n",
        "\n",
        "# Save the cleaned notebook\n",
        "cleaned_path = \"/content/SimpleChatBot.ipynb\"  # This can be the same as original if you want to overwrite\n",
        "with open(cleaned_path, 'w', encoding='utf-8') as f:\n",
        "    nbformat.write(nb, f)\n",
        "\n",
        "print(f\"Notebook saved to {cleaned_path}\")\n"
      ]
    }
  ]
}