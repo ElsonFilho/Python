{
  "nbformat": 4,
  "nbformat_minor": 0,
  "metadata": {
    "colab": {
      "provenance": [],
      "authorship_tag": "ABX9TyO8NlAM8sBOu0wPcbx24J7Z"
    },
    "kernelspec": {
      "name": "python3",
      "display_name": "Python 3"
    },
    "language_info": {
      "name": "python"
    }
  },
  "cells": [
    {
      "cell_type": "markdown",
      "source": [
        "#Python Data Structures"
      ],
      "metadata": {
        "id": "fx96_81kUS2B"
      }
    },
    {
      "cell_type": "markdown",
      "source": [
        "## Lists\n",
        "Lists in Python contain ordered collections of items that can hold elements of different types and are mutable, allowing for versatile data storage and manipulation.\n",
        "\n",
        "Let's try some list operations in Python, including indexing, list manipulation, and copy/clone list."
      ],
      "metadata": {
        "id": "keo2NbYVUYya"
      }
    },
    {
      "cell_type": "markdown",
      "source": [
        "**Indexing**\n",
        "\n",
        "A list is a sequenced collection of different objects such as integers, strings, and even other lists as well. The address of each element within a list is called an index. An index is used to access and refer to items within a list."
      ],
      "metadata": {
        "id": "lW2Vb3KYUueV"
      }
    },
    {
      "cell_type": "code",
      "source": [
        "# Create a list\n",
        "\n",
        "L = [\"Led Zeppelin\", 10.0, 1969]\n",
        "L"
      ],
      "metadata": {
        "colab": {
          "base_uri": "https://localhost:8080/"
        },
        "id": "ELFfFgUWUl24",
        "outputId": "e43207dd-0922-4bba-c4f2-f53b5d0f438b"
      },
      "execution_count": null,
      "outputs": [
        {
          "output_type": "execute_result",
          "data": {
            "text/plain": [
              "['Led Zeppelin', 10.0, 1969]"
            ]
          },
          "metadata": {},
          "execution_count": 1
        }
      ]
    },
    {
      "cell_type": "code",
      "source": [
        "type(L)"
      ],
      "metadata": {
        "colab": {
          "base_uri": "https://localhost:8080/"
        },
        "id": "M0jV3uOxfj25",
        "outputId": "973452b8-ebd4-490e-8f59-dfee553d187e"
      },
      "execution_count": null,
      "outputs": [
        {
          "output_type": "execute_result",
          "data": {
            "text/plain": [
              "list"
            ]
          },
          "metadata": {},
          "execution_count": 44
        }
      ]
    },
    {
      "cell_type": "code",
      "source": [
        "# Print the elements on each index\n",
        "\n",
        "print('the same element using positive and negative indexing (0 and -3):\\n Postive:',L[0],\n",
        "'\\n Negative:' , L[-3]  )\n",
        "print('the same element using positive and negative indexing (1 and -2):\\n Postive:',L[1],\n",
        "'\\n Negative:' , L[-2]  )\n",
        "print('the same element using positive and negative indexing (2 and - 1):\\n Postive:',L[2],\n",
        "'\\n Negative:' , L[-1]  )"
      ],
      "metadata": {
        "colab": {
          "base_uri": "https://localhost:8080/"
        },
        "id": "OhwcoPcAVooK",
        "outputId": "613d25f0-ab09-45ad-8c6c-533b53834b76"
      },
      "execution_count": null,
      "outputs": [
        {
          "output_type": "stream",
          "name": "stdout",
          "text": [
            "the same element using positive and negative indexing (0 and -3):\n",
            " Postive: Led Zeppelin \n",
            " Negative: Led Zeppelin\n",
            "the same element using positive and negative indexing (1 and -2):\n",
            " Postive: 10.0 \n",
            " Negative: 10.0\n",
            "the same element using positive and negative indexing (2 and - 1):\n",
            " Postive: 1969 \n",
            " Negative: 1969\n"
          ]
        }
      ]
    },
    {
      "cell_type": "markdown",
      "source": [
        "Lists can contain strings, floats, and integers. We can nest other lists, and we can also nest tuples and other data structures. The same indexing conventions apply for nesting:"
      ],
      "metadata": {
        "id": "KF9JsQtLUvVz"
      }
    },
    {
      "cell_type": "code",
      "source": [
        "# Sample List\n",
        "\n",
        "L = [\"Led Zeppelin\", 10.0, 1969, [\"Atlantic Records\", \"Olympic Studios\"], 1]\n",
        "L"
      ],
      "metadata": {
        "colab": {
          "base_uri": "https://localhost:8080/"
        },
        "id": "boul_ftzWsJi",
        "outputId": "278f0eb6-6e66-4773-d245-d40ac7703fa9"
      },
      "execution_count": null,
      "outputs": [
        {
          "output_type": "execute_result",
          "data": {
            "text/plain": [
              "['Led Zeppelin', 10.0, 1969, ['Atlantic Records', 'Olympic Studios'], 1]"
            ]
          },
          "metadata": {},
          "execution_count": 24
        }
      ]
    },
    {
      "cell_type": "code",
      "source": [
        "# List slicing\n",
        "\n",
        "L[0:3]"
      ],
      "metadata": {
        "colab": {
          "base_uri": "https://localhost:8080/"
        },
        "id": "VO2E5AZBZdi5",
        "outputId": "8fbcc336-fdf3-4d03-ec21-d9d11c90e318"
      },
      "execution_count": null,
      "outputs": [
        {
          "output_type": "execute_result",
          "data": {
            "text/plain": [
              "['Led Zeppelin', 10.0, 1969]"
            ]
          },
          "metadata": {},
          "execution_count": 25
        }
      ]
    },
    {
      "cell_type": "code",
      "source": [
        "# Use extend to add elements to list\n",
        "\n",
        "L.extend(['Rock'])\n",
        "L"
      ],
      "metadata": {
        "colab": {
          "base_uri": "https://localhost:8080/"
        },
        "id": "sZCoZ5HIZzbb",
        "outputId": "2f63942b-189b-44bc-eb2d-81d876861c68"
      },
      "execution_count": null,
      "outputs": [
        {
          "output_type": "execute_result",
          "data": {
            "text/plain": [
              "['Led Zeppelin',\n",
              " 10.0,\n",
              " 1969,\n",
              " ['Atlantic Records', 'Olympic Studios'],\n",
              " 1,\n",
              " 'Rock']"
            ]
          },
          "metadata": {},
          "execution_count": 26
        }
      ]
    },
    {
      "cell_type": "code",
      "source": [
        "# Use append to add elements to list\n",
        "\n",
        "L.append(['a','b'])\n",
        "L"
      ],
      "metadata": {
        "colab": {
          "base_uri": "https://localhost:8080/"
        },
        "id": "dVcqwyw7a9B4",
        "outputId": "fdf03332-a94d-4976-def2-075737dc69b5"
      },
      "execution_count": null,
      "outputs": [
        {
          "output_type": "execute_result",
          "data": {
            "text/plain": [
              "['Led Zeppelin',\n",
              " 10.0,\n",
              " 1969,\n",
              " ['Atlantic Records', 'Olympic Studios'],\n",
              " 1,\n",
              " 'Rock',\n",
              " ['a', 'b']]"
            ]
          },
          "metadata": {},
          "execution_count": 27
        }
      ]
    },
    {
      "cell_type": "code",
      "source": [
        "# Change the element based on the index\n",
        "\n",
        "print('Before change:', L)\n",
        "L[5] = 'Hard Rock'\n",
        "print('After change: ', L)"
      ],
      "metadata": {
        "colab": {
          "base_uri": "https://localhost:8080/"
        },
        "id": "Lj3o8B7nbOSp",
        "outputId": "d447a730-6d11-4e57-f2af-f6e31ef19255"
      },
      "execution_count": null,
      "outputs": [
        {
          "output_type": "stream",
          "name": "stdout",
          "text": [
            "Before change: ['Led Zeppelin', 10.0, 1969, ['Atlantic Records', 'Olympic Studios'], 1, 'Rock', ['a', 'b']]\n",
            "After change:  ['Led Zeppelin', 10.0, 1969, ['Atlantic Records', 'Olympic Studios'], 1, 'Hard Rock', ['a', 'b']]\n"
          ]
        }
      ]
    },
    {
      "cell_type": "code",
      "source": [
        "# Delete the element based on the index\n",
        "\n",
        "print('Before change:', L)\n",
        "del(L[-1])\n",
        "print('After change: ', L)"
      ],
      "metadata": {
        "colab": {
          "base_uri": "https://localhost:8080/"
        },
        "id": "HzUQBybZb4fH",
        "outputId": "c1feb39b-8c9a-4c6b-e8bc-8c619df4c329"
      },
      "execution_count": null,
      "outputs": [
        {
          "output_type": "stream",
          "name": "stdout",
          "text": [
            "Before change: ['Led Zeppelin', 10.0, 1969, ['Atlantic Records', 'Olympic Studios'], 1, 'Hard Rock', ['a', 'b']]\n",
            "After change:  ['Led Zeppelin', 10.0, 1969, ['Atlantic Records', 'Olympic Studios'], 1, 'Hard Rock']\n"
          ]
        }
      ]
    },
    {
      "cell_type": "markdown",
      "source": [
        "Copy and Clone"
      ],
      "metadata": {
        "id": "lyWngVX0dlD0"
      }
    },
    {
      "cell_type": "code",
      "source": [
        "# Copy (copy by reference) the list A\n",
        "\n",
        "D = L\n",
        "print('L:', L)\n",
        "print('D:', D)"
      ],
      "metadata": {
        "colab": {
          "base_uri": "https://localhost:8080/"
        },
        "id": "1YCIeQBddY6h",
        "outputId": "766459ad-4dbb-4312-ce3b-aced643063b1"
      },
      "execution_count": null,
      "outputs": [
        {
          "output_type": "stream",
          "name": "stdout",
          "text": [
            "L: ['Led Zeppelin', 10.0, 1969, ['Atlantic Records', 'Olympic Studios'], 1, 'Hard Rock']\n",
            "D: ['Led Zeppelin', 10.0, 1969, ['Atlantic Records', 'Olympic Studios'], 1, 'Hard Rock']\n"
          ]
        }
      ]
    },
    {
      "cell_type": "code",
      "source": [
        "# Examine the copy by reference\n",
        "\n",
        "print('L[0]:', D[0])\n",
        "D[0] = \"Lead Zeppelin\"\n",
        "print('L[0]:', D[0])"
      ],
      "metadata": {
        "colab": {
          "base_uri": "https://localhost:8080/"
        },
        "id": "Yem8VAZqd7L5",
        "outputId": "b09b1d5c-4ce3-4287-e65a-75821545bdb4"
      },
      "execution_count": null,
      "outputs": [
        {
          "output_type": "stream",
          "name": "stdout",
          "text": [
            "L[0]: Led Zeppelin\n",
            "L[0]: Lead Zeppelin\n"
          ]
        }
      ]
    },
    {
      "cell_type": "code",
      "source": [
        "# Clone (clone by value) the list A\n",
        "\n",
        "D = L[:]\n",
        "D"
      ],
      "metadata": {
        "colab": {
          "base_uri": "https://localhost:8080/"
        },
        "id": "qaONqf0yeLzG",
        "outputId": "a8209d25-1979-4619-aded-b72617f78b9a"
      },
      "execution_count": null,
      "outputs": [
        {
          "output_type": "execute_result",
          "data": {
            "text/plain": [
              "['Led Zeppelin',\n",
              " 10.0,\n",
              " 1969,\n",
              " ['Atlantic Records', 'Olympic Studios'],\n",
              " 1,\n",
              " 'Hard Rock']"
            ]
          },
          "metadata": {},
          "execution_count": 38
        }
      ]
    },
    {
      "cell_type": "code",
      "source": [
        "# Now if you change L, D will also change:\n",
        "L[0] = \"Led Zeppelin\"\n",
        "print('L[0]:', L[0])\n",
        "print('D[0]:', D[0])"
      ],
      "metadata": {
        "colab": {
          "base_uri": "https://localhost:8080/"
        },
        "id": "-mTAGHpWehI8",
        "outputId": "07531abb-5bc7-4c2d-a2d0-b3e014c92c64"
      },
      "execution_count": null,
      "outputs": [
        {
          "output_type": "stream",
          "name": "stdout",
          "text": [
            "L[0]: Led Zeppelin\n",
            "D[0]: Led Zeppelin\n"
          ]
        }
      ]
    },
    {
      "cell_type": "markdown",
      "source": [
        "## Tuples\n",
        "In Python, we often use tuples to group related data together. Tuples refer to ordered and immutable collections of elements.\n",
        "\n",
        "Let's see the basics tuple operations in Python, including indexing, slicing and sorting."
      ],
      "metadata": {
        "id": "Fv-MJ4txfTCA"
      }
    },
    {
      "cell_type": "code",
      "source": [
        "# Create a tuple\n",
        "\n",
        "tuple1 = (\"Led Zeppelin\",1,1969)\n",
        "tuple1"
      ],
      "metadata": {
        "colab": {
          "base_uri": "https://localhost:8080/"
        },
        "id": "pzhlrlxwfcCb",
        "outputId": "276bb3e7-ac6e-484b-b7c2-7a5b832e73a0"
      },
      "execution_count": null,
      "outputs": [
        {
          "output_type": "execute_result",
          "data": {
            "text/plain": [
              "('Led Zeppelin', 1, 1969)"
            ]
          },
          "metadata": {},
          "execution_count": 47
        }
      ]
    },
    {
      "cell_type": "code",
      "source": [
        "type(tuple1)"
      ],
      "metadata": {
        "colab": {
          "base_uri": "https://localhost:8080/"
        },
        "id": "bLHp9Pw4e4K_",
        "outputId": "f2cad78a-064f-47e9-9b89-20c955eec0c0"
      },
      "execution_count": null,
      "outputs": [
        {
          "output_type": "execute_result",
          "data": {
            "text/plain": [
              "tuple"
            ]
          },
          "metadata": {},
          "execution_count": 48
        }
      ]
    },
    {
      "cell_type": "code",
      "source": [
        "# Print the variable on each index\n",
        "\n",
        "print(tuple1[0])\n",
        "print(tuple1[1])\n",
        "print(tuple1[2])"
      ],
      "metadata": {
        "colab": {
          "base_uri": "https://localhost:8080/"
        },
        "id": "IZ6kjZingAH2",
        "outputId": "ef19faee-2056-4838-a79a-e9d76272ffbc"
      },
      "execution_count": null,
      "outputs": [
        {
          "output_type": "stream",
          "name": "stdout",
          "text": [
            "Led Zeppelin\n",
            "1\n",
            "1969\n"
          ]
        }
      ]
    },
    {
      "cell_type": "code",
      "source": [
        "# Print the type of value on each index\n",
        "\n",
        "print(type(tuple1[0]))\n",
        "print(type(tuple1[1]))\n",
        "print(type(tuple1[2]))"
      ],
      "metadata": {
        "colab": {
          "base_uri": "https://localhost:8080/"
        },
        "id": "dsePi1DRgK7h",
        "outputId": "2064121d-a99a-4b0c-c32b-28dc3a82b568"
      },
      "execution_count": null,
      "outputs": [
        {
          "output_type": "stream",
          "name": "stdout",
          "text": [
            "<class 'str'>\n",
            "<class 'int'>\n",
            "<class 'int'>\n"
          ]
        }
      ]
    },
    {
      "cell_type": "code",
      "source": [
        "# Concatenate two tuples\n",
        "\n",
        "tuple2 = tuple1 + (\"Hard Rock\", 10.0)\n",
        "tuple2"
      ],
      "metadata": {
        "colab": {
          "base_uri": "https://localhost:8080/"
        },
        "id": "90UY_ICjgWZp",
        "outputId": "e908a587-9803-4fda-fdfa-5bd6a71ce030"
      },
      "execution_count": null,
      "outputs": [
        {
          "output_type": "execute_result",
          "data": {
            "text/plain": [
              "('Led Zeppelin', 1, 1969, 'Hard Rock', 10.0)"
            ]
          },
          "metadata": {},
          "execution_count": 52
        }
      ]
    },
    {
      "cell_type": "code",
      "source": [
        "# Slice from index 0 to index 2\n",
        "\n",
        "tuple2[0:3]"
      ],
      "metadata": {
        "colab": {
          "base_uri": "https://localhost:8080/"
        },
        "id": "Yn9WMipigpc5",
        "outputId": "7e3e7306-21db-48ef-cc66-f9943c08d459"
      },
      "execution_count": null,
      "outputs": [
        {
          "output_type": "execute_result",
          "data": {
            "text/plain": [
              "('Led Zeppelin', 1, 1969)"
            ]
          },
          "metadata": {},
          "execution_count": 53
        }
      ]
    },
    {
      "cell_type": "code",
      "source": [
        "# Get the length of tuple\n",
        "\n",
        "len(tuple2)"
      ],
      "metadata": {
        "colab": {
          "base_uri": "https://localhost:8080/"
        },
        "id": "rSD3_rSggxfG",
        "outputId": "2b4524e9-e57e-43cd-91ff-7e789da75ccc"
      },
      "execution_count": null,
      "outputs": [
        {
          "output_type": "execute_result",
          "data": {
            "text/plain": [
              "5"
            ]
          },
          "metadata": {},
          "execution_count": 54
        }
      ]
    },
    {
      "cell_type": "code",
      "source": [
        "# A sample tuple\n",
        "Ratings = (0, 9, 6, 5, 10, 8, 9, 6, 2)\n",
        "\n",
        "# Sort the tuple\n",
        "RatingsSorted = sorted(Ratings)\n",
        "RatingsSorted"
      ],
      "metadata": {
        "colab": {
          "base_uri": "https://localhost:8080/"
        },
        "id": "c0kyUlSMg4T_",
        "outputId": "4d1975b3-7edc-4bb9-a7b4-609d95d0627b"
      },
      "execution_count": null,
      "outputs": [
        {
          "output_type": "execute_result",
          "data": {
            "text/plain": [
              "[0, 2, 5, 6, 6, 8, 9, 9, 10]"
            ]
          },
          "metadata": {},
          "execution_count": 56
        }
      ]
    },
    {
      "cell_type": "markdown",
      "source": [
        "## Dictionaries\n",
        "Dictionaries are key-value pairs that provide a flexible way to store and retrieve data based on unique keys.\n",
        "\n",
        "Dictionaries consist of keys and values, both composed of string elements.\n",
        "\n",
        "The keys are immutable and unique. The values may be either immutable or mutable, and they allow duplicates."
      ],
      "metadata": {
        "id": "cdVr6VJtjgJi"
      }
    },
    {
      "cell_type": "code",
      "source": [
        "# Create a sample dictionary\n",
        "\n",
        "release_year_dict = {\"Led Zeppelin\": \"1969\", \"Led Zeppelin II\": \"1969\", \\\n",
        "                    \"Led Zeppelin III\": \"1970\", \"Led Zeppelin IV\": \"1971\", \\\n",
        "                    \"Houses of the Holy\": \"1973\", \"Physical Graffiti\": \"1975\", \\\n",
        "                    \"Presence\": \"1976\", \"In Through the Out Door\": \"1979\", \\\n",
        "                     \"Coda\": \"1982\"}\n",
        "release_year_dict"
      ],
      "metadata": {
        "colab": {
          "base_uri": "https://localhost:8080/"
        },
        "id": "QiOr7Jyv5BxW",
        "outputId": "24a1e287-c559-41de-db56-74facd05621f"
      },
      "execution_count": 1,
      "outputs": [
        {
          "output_type": "execute_result",
          "data": {
            "text/plain": [
              "{'Led Zeppelin': '1969',\n",
              " 'Led Zeppelin II': '1969',\n",
              " 'Led Zeppelin III': '1970',\n",
              " 'Led Zeppelin IV': '1971',\n",
              " 'Houses of the Holy': '1973',\n",
              " 'Physical Graffiti': '1975',\n",
              " 'Presence': '1976',\n",
              " 'In Through the Out Door': '1979',\n",
              " 'Coda': '1982'}"
            ]
          },
          "metadata": {},
          "execution_count": 1
        }
      ]
    },
    {
      "cell_type": "code",
      "source": [
        "# Get value by keys\n",
        "\n",
        "release_year_dict['Presence']"
      ],
      "metadata": {
        "colab": {
          "base_uri": "https://localhost:8080/",
          "height": 35
        },
        "id": "mXKKz90T6l0e",
        "outputId": "ddbb8a16-476a-4a61-a471-4979ef559c1a"
      },
      "execution_count": 2,
      "outputs": [
        {
          "output_type": "execute_result",
          "data": {
            "text/plain": [
              "'1976'"
            ],
            "application/vnd.google.colaboratory.intrinsic+json": {
              "type": "string"
            }
          },
          "metadata": {},
          "execution_count": 2
        }
      ]
    },
    {
      "cell_type": "code",
      "source": [
        "# Get all the keys in dictionary\n",
        "\n",
        "release_year_dict.keys()"
      ],
      "metadata": {
        "colab": {
          "base_uri": "https://localhost:8080/"
        },
        "id": "6vxaNv7a69Tr",
        "outputId": "51a2b182-0416-477e-9069-8bd2609d9195"
      },
      "execution_count": 3,
      "outputs": [
        {
          "output_type": "execute_result",
          "data": {
            "text/plain": [
              "dict_keys(['Led Zeppelin', 'Led Zeppelin II', 'Led Zeppelin III', 'Led Zeppelin IV', 'Houses of the Holy', 'Physical Graffiti', 'Presence', 'In Through the Out Door', 'Coda'])"
            ]
          },
          "metadata": {},
          "execution_count": 3
        }
      ]
    },
    {
      "cell_type": "code",
      "source": [
        "# Get all the values in dictionary\n",
        "\n",
        "release_year_dict.values()"
      ],
      "metadata": {
        "colab": {
          "base_uri": "https://localhost:8080/"
        },
        "id": "dITgitT27C6v",
        "outputId": "fd2448df-d014-47a4-f198-0b7f13a6dfec"
      },
      "execution_count": 4,
      "outputs": [
        {
          "output_type": "execute_result",
          "data": {
            "text/plain": [
              "dict_values(['1969', '1969', '1970', '1971', '1973', '1975', '1976', '1979', '1982'])"
            ]
          },
          "metadata": {},
          "execution_count": 4
        }
      ]
    },
    {
      "cell_type": "code",
      "source": [
        "# Append value with key into dictionary\n",
        "\n",
        "release_year_dict['The Song Remains the Same'] = '1976'\n",
        "release_year_dict"
      ],
      "metadata": {
        "colab": {
          "base_uri": "https://localhost:8080/"
        },
        "id": "VftBSHBW7KCj",
        "outputId": "fff8fa5d-d434-4ded-fae9-8312c32708ca"
      },
      "execution_count": 5,
      "outputs": [
        {
          "output_type": "execute_result",
          "data": {
            "text/plain": [
              "{'Led Zeppelin': '1969',\n",
              " 'Led Zeppelin II': '1969',\n",
              " 'Led Zeppelin III': '1970',\n",
              " 'Led Zeppelin IV': '1971',\n",
              " 'Houses of the Holy': '1973',\n",
              " 'Physical Graffiti': '1975',\n",
              " 'Presence': '1976',\n",
              " 'In Through the Out Door': '1979',\n",
              " 'Coda': '1982',\n",
              " 'The Song Remains the Same': '1976'}"
            ]
          },
          "metadata": {},
          "execution_count": 5
        }
      ]
    },
    {
      "cell_type": "code",
      "source": [
        "# Delete entries by key\n",
        "\n",
        "del(release_year_dict['Presence'])\n",
        "del(release_year_dict['The Song Remains the Same'])\n",
        "release_year_dict"
      ],
      "metadata": {
        "colab": {
          "base_uri": "https://localhost:8080/"
        },
        "id": "MKrK9KmE7Wfx",
        "outputId": "759ab624-f894-41b5-bbdf-6379964f030e"
      },
      "execution_count": 6,
      "outputs": [
        {
          "output_type": "execute_result",
          "data": {
            "text/plain": [
              "{'Led Zeppelin': '1969',\n",
              " 'Led Zeppelin II': '1969',\n",
              " 'Led Zeppelin III': '1970',\n",
              " 'Led Zeppelin IV': '1971',\n",
              " 'Houses of the Holy': '1973',\n",
              " 'Physical Graffiti': '1975',\n",
              " 'In Through the Out Door': '1979',\n",
              " 'Coda': '1982'}"
            ]
          },
          "metadata": {},
          "execution_count": 6
        }
      ]
    },
    {
      "cell_type": "code",
      "source": [
        "# Verify the key is in the dictionary\n",
        "\n",
        "'Houses of the Holy' in release_year_dict"
      ],
      "metadata": {
        "colab": {
          "base_uri": "https://localhost:8080/"
        },
        "id": "q7bLqVg07jhd",
        "outputId": "5bee91f9-d45b-4e58-ca87-834bc1aa9c34"
      },
      "execution_count": 7,
      "outputs": [
        {
          "output_type": "execute_result",
          "data": {
            "text/plain": [
              "True"
            ]
          },
          "metadata": {},
          "execution_count": 7
        }
      ]
    },
    {
      "cell_type": "code",
      "source": [
        "# Extract the keys of a dictionary as a list\n",
        "\n",
        "list(release_year_dict.keys())"
      ],
      "metadata": {
        "colab": {
          "base_uri": "https://localhost:8080/"
        },
        "id": "SQPxeDn68j3m",
        "outputId": "1f0e5fa2-ae82-411f-ff37-ef7311f01944"
      },
      "execution_count": 8,
      "outputs": [
        {
          "output_type": "execute_result",
          "data": {
            "text/plain": [
              "['Led Zeppelin',\n",
              " 'Led Zeppelin II',\n",
              " 'Led Zeppelin III',\n",
              " 'Led Zeppelin IV',\n",
              " 'Houses of the Holy',\n",
              " 'Physical Graffiti',\n",
              " 'In Through the Out Door',\n",
              " 'Coda']"
            ]
          },
          "metadata": {},
          "execution_count": 8
        }
      ]
    },
    {
      "cell_type": "markdown",
      "source": [
        "# Sets\n",
        "\n",
        "Sets are collections of unique elements, useful for tasks such as removing duplicates and performing set operations like union and intersection.\n",
        "\n",
        "Sets lack order and do not contain duplicate items."
      ],
      "metadata": {
        "id": "BnkMzJWKnJjp"
      }
    },
    {
      "cell_type": "code",
      "source": [
        "# Create a set\n",
        "\n",
        "set1 = {\"pop\", \"rock\", \"heavy metal\", \"hard rock\", \"rock\", \"blues\", \"rock\", \"jazz\"}\n",
        "set1"
      ],
      "metadata": {
        "colab": {
          "base_uri": "https://localhost:8080/"
        },
        "id": "MPmd3p-V_b-V",
        "outputId": "cd30a6b7-8021-4166-f89a-65394bd280a7"
      },
      "execution_count": 10,
      "outputs": [
        {
          "output_type": "execute_result",
          "data": {
            "text/plain": [
              "{'blues', 'hard rock', 'heavy metal', 'jazz', 'pop', 'rock'}"
            ]
          },
          "metadata": {},
          "execution_count": 10
        }
      ]
    },
    {
      "cell_type": "code",
      "source": [
        "# Convert list to set\n",
        "\n",
        "music_genres = set([\"pop\", \"pop\", \"rock\", \"folk rock\", \"hard rock\", \"soul\", \\\n",
        "                    \"progressive rock\", \"soft rock\", \"blues\", \"jazz\"])\n",
        "music_genres"
      ],
      "metadata": {
        "colab": {
          "base_uri": "https://localhost:8080/"
        },
        "id": "9O1hcXR2_1GT",
        "outputId": "14665849-58ef-42a9-ca2b-2ff0c7f3dfbf"
      },
      "execution_count": 13,
      "outputs": [
        {
          "output_type": "execute_result",
          "data": {
            "text/plain": [
              "{'blues',\n",
              " 'folk rock',\n",
              " 'hard rock',\n",
              " 'jazz',\n",
              " 'pop',\n",
              " 'progressive rock',\n",
              " 'rock',\n",
              " 'soft rock',\n",
              " 'soul'}"
            ]
          },
          "metadata": {},
          "execution_count": 13
        }
      ]
    },
    {
      "cell_type": "code",
      "source": [
        "# Add element to set\n",
        "\n",
        "music_genres.add(\"heavy metal\")\n",
        "music_genres"
      ],
      "metadata": {
        "colab": {
          "base_uri": "https://localhost:8080/"
        },
        "id": "bFXFlT4gAwIl",
        "outputId": "f551544e-1e81-4d15-d9d2-f77f75be3916"
      },
      "execution_count": 14,
      "outputs": [
        {
          "output_type": "execute_result",
          "data": {
            "text/plain": [
              "{'blues',\n",
              " 'folk rock',\n",
              " 'hard rock',\n",
              " 'heavy metal',\n",
              " 'jazz',\n",
              " 'pop',\n",
              " 'progressive rock',\n",
              " 'rock',\n",
              " 'soft rock',\n",
              " 'soul'}"
            ]
          },
          "metadata": {},
          "execution_count": 14
        }
      ]
    },
    {
      "cell_type": "code",
      "source": [
        "# Remove the element from set\n",
        "\n",
        "music_genres.remove(\"pop\")\n",
        "music_genres"
      ],
      "metadata": {
        "colab": {
          "base_uri": "https://localhost:8080/"
        },
        "id": "oy8u1c5tBOIm",
        "outputId": "e11deb86-b998-4441-ccec-50cd15898676"
      },
      "execution_count": 15,
      "outputs": [
        {
          "output_type": "execute_result",
          "data": {
            "text/plain": [
              "{'blues',\n",
              " 'folk rock',\n",
              " 'hard rock',\n",
              " 'heavy metal',\n",
              " 'jazz',\n",
              " 'progressive rock',\n",
              " 'rock',\n",
              " 'soft rock',\n",
              " 'soul'}"
            ]
          },
          "metadata": {},
          "execution_count": 15
        }
      ]
    },
    {
      "cell_type": "code",
      "source": [
        "# Verify if the element is in the set\n",
        "\n",
        "\"hard rock\" in music_genres"
      ],
      "metadata": {
        "colab": {
          "base_uri": "https://localhost:8080/"
        },
        "id": "lwycVu4EBaIq",
        "outputId": "82cf751b-e528-4c68-8a9f-5a74e150487d"
      },
      "execution_count": 17,
      "outputs": [
        {
          "output_type": "execute_result",
          "data": {
            "text/plain": [
              "True"
            ]
          },
          "metadata": {},
          "execution_count": 17
        }
      ]
    },
    {
      "cell_type": "code",
      "source": [
        "# Sample Sets\n",
        "\n",
        "album_set1 = set([\"Led Zeppelin\", 'Led Zeppelin II', 'Physical Graffiti'])\n",
        "album_set2 = set([ \"Houses of the Holy\", \"Led Zeppelin II\", \"The Song Remains the Same\"])\n",
        "\n",
        "# Print two sets\n",
        "\n",
        "album_set1, album_set2"
      ],
      "metadata": {
        "colab": {
          "base_uri": "https://localhost:8080/"
        },
        "id": "VxMTSdQYBmo3",
        "outputId": "5ca4d558-1fb4-4b12-841e-3ce821665e8a"
      },
      "execution_count": 21,
      "outputs": [
        {
          "output_type": "execute_result",
          "data": {
            "text/plain": [
              "({'Led Zeppelin', 'Led Zeppelin II', 'Physical Graffiti'},\n",
              " {'Houses of the Holy', 'Led Zeppelin II', 'The Song Remains the Same'})"
            ]
          },
          "metadata": {},
          "execution_count": 21
        }
      ]
    },
    {
      "cell_type": "code",
      "source": [
        "# Find the intersections\n",
        "\n",
        "intersection = album_set1 & album_set2\n",
        "intersection"
      ],
      "metadata": {
        "colab": {
          "base_uri": "https://localhost:8080/"
        },
        "id": "Iji0avKRCRmw",
        "outputId": "f31f51be-0eaf-43e1-9c93-238dd7803bba"
      },
      "execution_count": 22,
      "outputs": [
        {
          "output_type": "execute_result",
          "data": {
            "text/plain": [
              "{'Led Zeppelin II'}"
            ]
          },
          "metadata": {},
          "execution_count": 22
        }
      ]
    },
    {
      "cell_type": "code",
      "source": [
        "# Find the difference in set1 but not set2\n",
        "\n",
        "album_set1.difference(album_set2)"
      ],
      "metadata": {
        "colab": {
          "base_uri": "https://localhost:8080/"
        },
        "id": "7brOiCCdCZKn",
        "outputId": "c349da19-7e18-4ef8-b07e-404a73288c4b"
      },
      "execution_count": 23,
      "outputs": [
        {
          "output_type": "execute_result",
          "data": {
            "text/plain": [
              "{'Led Zeppelin', 'Physical Graffiti'}"
            ]
          },
          "metadata": {},
          "execution_count": 23
        }
      ]
    },
    {
      "cell_type": "code",
      "source": [
        "# Find the difference in set2 but not set1\n",
        "\n",
        "album_set2.difference(album_set1)"
      ],
      "metadata": {
        "colab": {
          "base_uri": "https://localhost:8080/"
        },
        "id": "lWsT326JCc_q",
        "outputId": "3de629ce-779b-4329-df5b-500e04d86153"
      },
      "execution_count": 26,
      "outputs": [
        {
          "output_type": "execute_result",
          "data": {
            "text/plain": [
              "{'Houses of the Holy', 'The Song Remains the Same'}"
            ]
          },
          "metadata": {},
          "execution_count": 26
        }
      ]
    },
    {
      "cell_type": "code",
      "source": [
        "# Use intersection method to find the intersection of album_list1 and album_list2\n",
        "\n",
        "album_set1.intersection(album_set2)"
      ],
      "metadata": {
        "colab": {
          "base_uri": "https://localhost:8080/"
        },
        "id": "HgyoG9R7CiV3",
        "outputId": "1b7e7e2a-cde5-4e73-a2f9-5a043f50de5f"
      },
      "execution_count": 24,
      "outputs": [
        {
          "output_type": "execute_result",
          "data": {
            "text/plain": [
              "{'Led Zeppelin II'}"
            ]
          },
          "metadata": {},
          "execution_count": 24
        }
      ]
    },
    {
      "cell_type": "code",
      "source": [
        "# Find the union of two sets\n",
        "\n",
        "album_set1.union(album_set2)"
      ],
      "metadata": {
        "colab": {
          "base_uri": "https://localhost:8080/"
        },
        "id": "ZtvJomYYC1Xz",
        "outputId": "6b9be741-411d-492f-8f95-cb02765dfae4"
      },
      "execution_count": 27,
      "outputs": [
        {
          "output_type": "execute_result",
          "data": {
            "text/plain": [
              "{'Houses of the Holy',\n",
              " 'Led Zeppelin',\n",
              " 'Led Zeppelin II',\n",
              " 'Physical Graffiti',\n",
              " 'The Song Remains the Same'}"
            ]
          },
          "metadata": {},
          "execution_count": 27
        }
      ]
    },
    {
      "cell_type": "code",
      "source": [
        "# Check if superset\n",
        "\n",
        "set(album_set1).issuperset(album_set2)"
      ],
      "metadata": {
        "colab": {
          "base_uri": "https://localhost:8080/"
        },
        "id": "F04Z_LRNC3MC",
        "outputId": "3368b1bc-263f-4ec4-e460-b0ac4954d23b"
      },
      "execution_count": 28,
      "outputs": [
        {
          "output_type": "execute_result",
          "data": {
            "text/plain": [
              "False"
            ]
          },
          "metadata": {},
          "execution_count": 28
        }
      ]
    }
  ]
}